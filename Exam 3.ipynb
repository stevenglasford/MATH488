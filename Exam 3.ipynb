{
 "cells": [
  {
   "cell_type": "markdown",
   "metadata": {},
   "source": [
    "**Problem 2A**\n",
    "Apply Newton-Raphson method to find a solution\n",
    "to $x − \\cos{x} = 0$ in the interval $[0, \\frac{\\pi}{2} ]$ that is accurate to within $10^{−4}$ . You may\n",
    "use $p_{0} = 0$. See insert."
   ]
  },
  {
   "cell_type": "markdown",
   "metadata": {},
   "source": [
    "**Problem 2B** Write an Python code for this problem and implement it to verify the solution\n",
    "for **Problem 2A**."
   ]
  },
  {
   "cell_type": "code",
   "execution_count": 1,
   "metadata": {},
   "outputs": [],
   "source": [
    "def func(x):\n",
    "    return (x - cos(x))\n",
    "\n",
    "def dfunc(x):\n",
    "    return 1 + sin(x)"
   ]
  },
  {
   "cell_type": "code",
   "execution_count": 2,
   "metadata": {},
   "outputs": [],
   "source": [
    "from math import sin, cos\n",
    "\n",
    "def newtonRaphson(function, differential, error, pZero):\n",
    "    n = 0\n",
    "    pOld = pZero\n",
    "    pNew = pZero - (function(pZero))/(differential(pZero))\n",
    "    while not (abs(pNew - pOld) < error):\n",
    "        pOld = pNew\n",
    "        pNew = pOld - (function(pOld))/(differential(pOld))\n",
    "        n\n",
    "        \n",
    "    return pNew"
   ]
  },
  {
   "cell_type": "code",
   "execution_count": 3,
   "metadata": {
    "scrolled": true
   },
   "outputs": [
    {
     "data": {
      "text/plain": [
       "0.739085133385284"
      ]
     },
     "execution_count": 3,
     "metadata": {},
     "output_type": "execute_result"
    }
   ],
   "source": [
    "newtonRaphson(func,dfunc,10**-4,0)"
   ]
  },
  {
   "cell_type": "markdown",
   "metadata": {},
   "source": [
    "**Problem 3A**\n",
    "Write a Python code from the scratch for the\n",
    "Modified-Euler’s method and the fourth order Runge-Kutta method."
   ]
  },
  {
   "cell_type": "code",
   "execution_count": 4,
   "metadata": {},
   "outputs": [],
   "source": [
    "def modEuler(function, interval, wZero, low, high):\n",
    "    wOld = wZero\n",
    "    ##start at \n",
    "    n = 0\n",
    "    h = (high - low) / interval\n",
    "    #had to make the function for wNew look more managable and on\n",
    "    #a single line\n",
    "    ti = low+n*h\n",
    "    ti1 = low+(n+1)*h\n",
    "    m1 = function(low+n*h,wOld)\n",
    "    m2 = function(low+(n+1)*h,wOld+h*m1)\n",
    "    wNew = wOld + (h/2)*(m1 + m2)\n",
    "    ##add 1 since we computed w1\n",
    "    n+=1\n",
    "    while (n < interval - 1):\n",
    "        wOld = wNew\n",
    "        ti = low+n*h\n",
    "        m1 = function(ti,wOld)\n",
    "        ti1 = low+(n+1)*h\n",
    "        m2 = function(ti1,wOld+h*m1)\n",
    "        wNew = wOld + (h/2)*(m1 + m2)\n",
    "        n+=1\n",
    "        \n",
    "    return wNew"
   ]
  },
  {
   "cell_type": "code",
   "execution_count": 5,
   "metadata": {},
   "outputs": [],
   "source": [
    "#function: the function trying to be solved in the form function(t,y)\n",
    "#wZero: the initally given value\n",
    "#interval: the number of slices wanting to be taken, the high the value\n",
    "#          the higher the precision\n",
    "#low: the low end of the function wanting to be solved\n",
    "#high: the highest value of t\n",
    "def rungeKutta(function,interval,wZero,low,high):\n",
    "    h = (high - low) / interval\n",
    "    n = 0\n",
    "    ti = low+n*h\n",
    "    ti1 = low+(n+1)*h\n",
    "    wOld = wZero\n",
    "    k1 = h*function(ti,wOld)\n",
    "    k2 = h*function(ti + h/2, wOld + k1/2)\n",
    "    k3 = h*function(ti + h/2, wOld + k2/2)\n",
    "    k4 = h*function(ti1, wOld + k3)\n",
    "    wNew = wOld + (k1 + 2*k2 + 2*k3 + k4)/6\n",
    "    n+=1\n",
    "    while (n < interval - 1):\n",
    "        ti = low+n*h\n",
    "        ti1 = low+(n+1)*h\n",
    "        wOld = wNew\n",
    "        k1 = h*function(ti,wOld)\n",
    "        k2 = h*function(ti + h/2, wOld + k1/2)\n",
    "        k3 = h*function(ti + h/2, wOld + k2/2)\n",
    "        k4 = h*function(ti1, wOld + k3)\n",
    "        wNew = wOld + (k1 + 2*k2 + 2*k3 + k4)/6\n",
    "        n+=1\n",
    "    \n",
    "    return wNew\n",
    "    "
   ]
  },
  {
   "cell_type": "markdown",
   "metadata": {},
   "source": [
    "**Problem 4B** \n",
    "Use the codes to approximate $y(0.2)$, $y(0.4)$ and $y(0.6)$ for the initial value problem $$\\frac{dy}{dt} = 1 + y^{2} , \\;\\;\\; y(0) = 0$$"
   ]
  },
  {
   "cell_type": "code",
   "execution_count": 6,
   "metadata": {},
   "outputs": [],
   "source": [
    "#variable definitions constants\n",
    "def f1(t,y):\n",
    "    return 1 + y**2 + 0*t\n",
    "#the amount of precision in the number of subintervals to take of the function\n",
    "#the higher the number the more precision\n",
    "q = 10000\n",
    "#the initial value of y\n",
    "yzero = 0"
   ]
  },
  {
   "cell_type": "code",
   "execution_count": 7,
   "metadata": {},
   "outputs": [
    {
     "data": {
      "text/plain": [
       "0.20268921377923085"
      ]
     },
     "execution_count": 7,
     "metadata": {},
     "output_type": "execute_result"
    }
   ],
   "source": [
    "modEuler(f1,q,yzero,0,.2)"
   ]
  },
  {
   "cell_type": "code",
   "execution_count": 8,
   "metadata": {},
   "outputs": [
    {
     "data": {
      "text/plain": [
       "0.20268921376591495"
      ]
     },
     "execution_count": 8,
     "metadata": {},
     "output_type": "execute_result"
    }
   ],
   "source": [
    "rungeKutta(f1,q,yzero,0,.2)"
   ]
  },
  {
   "cell_type": "code",
   "execution_count": 9,
   "metadata": {},
   "outputs": [
    {
     "data": {
      "text/plain": [
       "0.4227460694755082"
      ]
     },
     "execution_count": 9,
     "metadata": {},
     "output_type": "execute_result"
    }
   ],
   "source": [
    "modEuler(f1,q,yzero,0,.4)"
   ]
  },
  {
   "cell_type": "code",
   "execution_count": 10,
   "metadata": {},
   "outputs": [
    {
     "data": {
      "text/plain": [
       "0.4227460693712808"
      ]
     },
     "execution_count": 10,
     "metadata": {},
     "output_type": "execute_result"
    }
   ],
   "source": [
    "rungeKutta(f1,q,yzero,0,.4)"
   ]
  },
  {
   "cell_type": "code",
   "execution_count": 11,
   "metadata": {},
   "outputs": [
    {
     "data": {
      "text/plain": [
       "0.6840487296728532"
      ]
     },
     "execution_count": 11,
     "metadata": {},
     "output_type": "execute_result"
    }
   ],
   "source": [
    "modEuler(f1,q,yzero,0,.6)"
   ]
  },
  {
   "cell_type": "code",
   "execution_count": 12,
   "metadata": {},
   "outputs": [
    {
     "data": {
      "text/plain": [
       "0.6840487293667202"
      ]
     },
     "execution_count": 12,
     "metadata": {},
     "output_type": "execute_result"
    }
   ],
   "source": [
    "rungeKutta(f1,q,yzero,0,.6)"
   ]
  },
  {
   "cell_type": "markdown",
   "metadata": {},
   "source": [
    "**Problem 2C**\n",
    "Use the code for Runge-Kutta method of order four to approximate the value of $y(1.2)$ to the following IVP and compare the result to the actual solution $y(t) = t\\tan{(\\ln{t})}$. $$y'=1+\\frac{y}{t}+\\left(\\frac{y}{t}\\right)^{2},\\;\\; 1\\leq t \\leq 3, \\;\\;\\; y(1)=0$$"
   ]
  },
  {
   "cell_type": "code",
   "execution_count": 13,
   "metadata": {},
   "outputs": [],
   "source": [
    "#function to be found\n",
    "def f2(t,y):\n",
    "    return 1 + y/t + (y/t)**2\n",
    "#precision interval\n",
    "p = 10\n",
    "#at y(1) = 0\n",
    "y1 = 0\n",
    "#bound starts at 1, not zero\n",
    "lower = 1\n",
    "#find up to 1.2\n",
    "upper = 1.2"
   ]
  },
  {
   "cell_type": "code",
   "execution_count": 14,
   "metadata": {},
   "outputs": [
    {
     "data": {
      "text/plain": [
       "0.19711028098666655"
      ]
     },
     "execution_count": 14,
     "metadata": {},
     "output_type": "execute_result"
    }
   ],
   "source": [
    "rungeKutta(f2,p,y1,lower,upper)"
   ]
  },
  {
   "cell_type": "code",
   "execution_count": 15,
   "metadata": {},
   "outputs": [],
   "source": [
    "from math import tan,log\n",
    "def actual(t):\n",
    "    return t*tan(log(t))"
   ]
  },
  {
   "cell_type": "code",
   "execution_count": 16,
   "metadata": {},
   "outputs": [
    {
     "data": {
      "text/plain": [
       "0.024132491770964576"
      ]
     },
     "execution_count": 16,
     "metadata": {},
     "output_type": "execute_result"
    }
   ],
   "source": [
    "#compared to the actual version the rungeKutta function \n",
    "#has this much error at 10 intervals\n",
    "abs(actual(1.2)-rungeKutta(f2,p,y1,lower,upper))"
   ]
  }
 ],
 "metadata": {
  "kernelspec": {
   "display_name": "Python 3",
   "language": "python",
   "name": "python3"
  },
  "language_info": {
   "codemirror_mode": {
    "name": "ipython",
    "version": 3
   },
   "file_extension": ".py",
   "mimetype": "text/x-python",
   "name": "python",
   "nbconvert_exporter": "python",
   "pygments_lexer": "ipython3",
   "version": "3.7.3"
  }
 },
 "nbformat": 4,
 "nbformat_minor": 2
}
