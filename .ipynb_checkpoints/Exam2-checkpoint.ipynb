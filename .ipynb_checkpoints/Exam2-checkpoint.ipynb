{
 "cells": [
  {
   "cell_type": "markdown",
   "metadata": {},
   "source": [
    "**Problem 1**"
   ]
  },
  {
   "cell_type": "markdown",
   "metadata": {},
   "source": [
    "Write a code from the scratch for finding derivation of a function $f(X)$ at the point $x = x_0$, using **(a)** three-point endpoint, and **(b)** Richardson's method. Use this to compute $f'(0)$ for the following function:\n"
   ]
  },
  {
   "cell_type": "markdown",
   "metadata": {},
   "source": [
    "|x   ||0     |0.1   |.2    |.3    |.4    |\n",
    "|----||------|------|------|------|------|\n",
    "|f(x)||0.0000|0.0819|0.1341|0.1646|0.1797|"
   ]
  },
  {
   "cell_type": "markdown",
   "metadata": {},
   "source": [
    "**Problem 1(a)**"
   ]
  },
  {
   "cell_type": "markdown",
   "metadata": {},
   "source": [
    "3-point endpoint formula:\n",
    "$$f'(x_0) = \\frac{1}{2h}[f(x_0-2h) - 4f(x_0-h) + 3f(x_0)] + \\frac{h^2}{3}f^{(3)}(c_2)$$\n",
    "where the $\\frac{h^2}{3}f^{(3)}(c_2)$ is equivalent to the error of the calculation\n",
    "we will first create a function in which we neglect to calculate the error."
   ]
  },
  {
   "cell_type": "code",
   "execution_count": 1,
   "metadata": {},
   "outputs": [],
   "source": [
    "#x2=f(x_2), x1 = f(x_1), x0 = f(x_0)\n",
    "def threePointEnd(x0,x1,x2,h):\n",
    "    return ((1/(2*h))*((-1/2)*x2-4*x1+3*x0))"
   ]
  },
  {
   "cell_type": "markdown",
   "metadata": {},
   "source": [
    "Seeing that the each instance of $x$ is separated by $0.1$ we will choose an $h$ value equivalent to $0.1$. We now solve for $f'(0)$."
   ]
  },
  {
   "cell_type": "code",
   "execution_count": 4,
   "metadata": {},
   "outputs": [],
   "source": [
    "x2 = 0.1341\n",
    "x1 = 0.0819\n",
    "x0 = 0.0000\n",
    "h  = 0.1"
   ]
  },
  {
   "cell_type": "code",
   "execution_count": 9,
   "metadata": {},
   "outputs": [
    {
     "data": {
      "text/plain": [
       "-1.97325"
      ]
     },
     "execution_count": 9,
     "metadata": {},
     "output_type": "execute_result"
    }
   ],
   "source": [
    "threePointEnd(x0,x1,x2,h)"
   ]
  },
  {
   "cell_type": "code",
   "execution_count": null,
   "metadata": {},
   "outputs": [],
   "source": [
    "def richardsons"
   ]
  }
 ],
 "metadata": {
  "kernelspec": {
   "display_name": "Python 3",
   "language": "python",
   "name": "python3"
  },
  "language_info": {
   "codemirror_mode": {
    "name": "ipython",
    "version": 3
   },
   "file_extension": ".py",
   "mimetype": "text/x-python",
   "name": "python",
   "nbconvert_exporter": "python",
   "pygments_lexer": "ipython3",
   "version": "3.7.3"
  }
 },
 "nbformat": 4,
 "nbformat_minor": 2
}
