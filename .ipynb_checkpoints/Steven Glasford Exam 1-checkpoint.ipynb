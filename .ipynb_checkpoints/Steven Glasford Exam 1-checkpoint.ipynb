{
 "cells": [
  {
   "cell_type": "markdown",
   "metadata": {},
   "source": [
    "**Problem 1**"
   ]
  },
  {
   "cell_type": "code",
   "execution_count": 1,
   "metadata": {},
   "outputs": [],
   "source": [
    "#LU decomposition\n",
    "import numpy as np\n",
    "\n",
    "def LUDecomp(matrix, size):\n",
    "    #setup a lower zero matrix to begin with\n",
    "    L = [[0 for x in range(size)]\n",
    "        for y in range(size)];\n",
    "    #setup an upper zero matrix\n",
    "    U = [[0 for x in range(size)]\n",
    "         for y in range(size)];\n",
    "    \n",
    "    #for both upper and lower matrices\n",
    "    for i in range(size):\n",
    "        \n",
    "        #decompose the upper matrix\n",
    "        for k in range(i, size):\n",
    "            #sum of L(i,j) * U(j,k)\n",
    "            sum = 0;\n",
    "            #not very useful on the first iteration\n",
    "            for j in range(i):\n",
    "                sum += (L[i][j] * U[j][k]);\n",
    "            \n",
    "            U[i][k] = matrix[i][k] - sum;\n",
    "    \n",
    "        #decompose the lower matrix\n",
    "        for k in range(i, size):\n",
    "            if (i == k):\n",
    "                #The diagonals are always 1\n",
    "                L[i][i] = 1;\n",
    "            else:\n",
    "                #summation of L(k,j) * U(j,i)\n",
    "                sum = 0;\n",
    "                for j in range(i):\n",
    "                    sum += (L[k][j] * U[j][i]);\n",
    "            \n",
    "                #evaluate L(k,i)\n",
    "                L[k][i] = ((matrix[k][i] - sum) / U[i][i]);\n",
    "    \n",
    "    #############################################\n",
    "    #print the display\n",
    "    print(\"Lower Triangular\"); \n",
    "    for i in range(size):\n",
    "        #print the lower matrix\n",
    "        for j in range(size):\n",
    "            print(round(L[i][j], 4), end = \"\\t\");\n",
    "        print(\"\", end = \"\\n\");\n",
    "    \n",
    "    print(\"\\nUpper Triangular\")\n",
    "    for i in range(size):\n",
    "        #print the upper matrix\n",
    "        for j in range(size):\n",
    "            print(round(U[i][j],4), end =\"\\t\");\n",
    "        print(\"\", end = \"\\n\");\n",
    "        \n",
    "    "
   ]
  },
  {
   "cell_type": "code",
   "execution_count": 2,
   "metadata": {},
   "outputs": [],
   "source": [
    "#randomly generated matrix with a nonzero determinant\n",
    "mat = [[9, 1, 2, 2, 8, 2],\n",
    "       [6, 5, 5, 8, 3, 7],\n",
    "       [5, 1, 6, 9, 5, 1],\n",
    "       [9, 0, 7, 2, 8, 7],\n",
    "       [7, 7, 1, 8, 2, 6],\n",
    "       [8, 4, 6, 7, 0, 5]];"
   ]
  },
  {
   "cell_type": "code",
   "execution_count": 3,
   "metadata": {},
   "outputs": [
    {
     "name": "stdout",
     "output_type": "stream",
     "text": [
      "The original Matrix\n",
      "9\t1\t2\t2\t8\t2\t\n",
      "6\t5\t5\t8\t3\t7\t\n",
      "5\t1\t6\t9\t5\t1\t\n",
      "9\t0\t7\t2\t8\t7\t\n",
      "7\t7\t1\t8\t2\t6\t\n",
      "8\t4\t6\t7\t0\t5\t\n"
     ]
    }
   ],
   "source": [
    "print(\"The original Matrix\");\n",
    "for i in range(len(mat)):\n",
    "    for j in range(len(mat)):\n",
    "        print(round(mat[i][j],4), end=\"\\t\");\n",
    "    print(\"\", end=\"\\n\");\n",
    "    "
   ]
  },
  {
   "cell_type": "code",
   "execution_count": 4,
   "metadata": {},
   "outputs": [
    {
     "name": "stdout",
     "output_type": "stream",
     "text": [
      "Lower Triangular\n",
      "1\t0\t0\t0\t0\t0\t\n",
      "0.6667\t1\t0\t0\t0\t0\t\n",
      "0.5556\t0.1026\t1\t0\t0\t0\t\n",
      "1.0\t-0.2308\t1.2955\t1\t0\t0\t\n",
      "0.7778\t1.4359\t-1.2898\t-0.7908\t1\t0\t\n",
      "0.8889\t0.7179\t0.3523\t0.2697\t4.8706\t1\t\n",
      "\n",
      "Upper Triangular\n",
      "9\t1\t2\t2\t8\t2\t\n",
      "0\t4.3333\t3.6667\t6.6667\t-2.3333\t5.6667\t\n",
      "0\t0\t4.5128\t7.2051\t0.7949\t-0.6923\t\n",
      "0\t0\t0\t-7.7955\t-1.5682\t7.2045\t\n",
      "0\t0\t0\t0\t-1.0867\t1.1122\t\n",
      "0\t0\t0\t0\t0\t-7.9624\t\n"
     ]
    }
   ],
   "source": [
    "LUDecomp(mat, 6)"
   ]
  },
  {
   "cell_type": "markdown",
   "metadata": {},
   "source": [
    "**Problem 2 A**"
   ]
  },
  {
   "cell_type": "code",
   "execution_count": 5,
   "metadata": {},
   "outputs": [],
   "source": [
    "X = np.array([0, 1, 2, 3, 4, 5, 6, 7, 8, 9, 10]);\n",
    "Y = np.array([12, 2, 17, 8, 19, 14, 22, 39, 22, 58, 77]);"
   ]
  },
  {
   "cell_type": "code",
   "execution_count": 6,
   "metadata": {},
   "outputs": [],
   "source": [
    "##Cubic Spline\n",
    "from scipy.interpolate import CubicSpline\n",
    "cub = CubicSpline(X,Y,bc_type=\"natural\")"
   ]
  },
  {
   "cell_type": "code",
   "execution_count": 7,
   "metadata": {},
   "outputs": [
    {
     "name": "stdout",
     "output_type": "stream",
     "text": [
      "3.6629396428665837\n",
      "10.136181071400248\n",
      "12.917336071532421\n",
      "12.694474642470064\n",
      "17.80476535858733\n",
      "14.711463923180629\n",
      "34.099378948690166\n",
      "28.76602028205874\n",
      "36.21153992307489\n",
      "70.8878200256417\n"
     ]
    }
   ],
   "source": [
    "# cub = CubicSpline(X,Y,bc_type=\"natural\");\n",
    "for i in range(0,10):\n",
    "    print(cub(i+0.5));"
   ]
  },
  {
   "cell_type": "markdown",
   "metadata": {},
   "source": [
    "**Problem 2 B**"
   ]
  },
  {
   "cell_type": "code",
   "execution_count": 8,
   "metadata": {},
   "outputs": [
    {
     "name": "stdout",
     "output_type": "stream",
     "text": [
      "-53.72864532470726\n",
      "24.61830902099547\n",
      "7.411857604983652\n",
      "14.662742614778836\n",
      "17.610221862853223\n",
      "14.448631286687998\n",
      "33.007072448725296\n",
      "33.757225035777594\n",
      "22.774284360237004\n",
      "115.5260238571708\n"
     ]
    }
   ],
   "source": [
    "from scipy.interpolate import lagrange;\n",
    "poly = lagrange(X,Y)\n",
    "for i in range(0,10):\n",
    "    print(poly(i+0.5));"
   ]
  },
  {
   "cell_type": "code",
   "execution_count": null,
   "metadata": {},
   "outputs": [],
   "source": []
  }
 ],
 "metadata": {
  "kernelspec": {
   "display_name": "Python 3",
   "language": "python",
   "name": "python3"
  },
  "language_info": {
   "codemirror_mode": {
    "name": "ipython",
    "version": 3
   },
   "file_extension": ".py",
   "mimetype": "text/x-python",
   "name": "python",
   "nbconvert_exporter": "python",
   "pygments_lexer": "ipython3",
   "version": "3.7.3"
  }
 },
 "nbformat": 4,
 "nbformat_minor": 2
}
