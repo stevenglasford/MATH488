{
 "cells": [
  {
   "cell_type": "code",
   "execution_count": 16,
   "metadata": {},
   "outputs": [],
   "source": [
    "#LU decomposition\n",
    "import numpy as np\n",
    "\n",
    "def LUDecomp(matrix, size):\n",
    "    #setup a lower zero matrix to begin with\n",
    "    L = [[0 for x in range(size)]\n",
    "        for y in range(size)];\n",
    "    #setup an upper zero matrix\n",
    "    U = [[0 for x in range(size)]\n",
    "         for y in range(size)];\n",
    "    \n",
    "    #for both upper and lower matrices\n",
    "    for both in range(size):\n",
    "        \n",
    "        #decompose the upper matrix\n",
    "        for upper in range(both, size):\n",
    "            #sum of L(i,j) * U(j,k)\n",
    "            sum = 0;\n",
    "            #not very useful on the first iteration\n",
    "            for j in range(both):\n",
    "                sum += (L[both][j] * U[j][upper]);\n",
    "            \n",
    "            U[both][upper] = matrix[both][upper] - sum;\n",
    "    \n",
    "        #decompose the lower matrix\n",
    "        for lower in range(both, size):\n",
    "            if (both == lower):\n",
    "                #The diagonals are always 1\n",
    "                L[both][both] = 1;\n",
    "            else:\n",
    "                #summation of L(k,j) * U(j,i)\n",
    "                sum = 0;\n",
    "                for j in range(both):\n",
    "                    sum += (L[lower][j] * U[j][both]);\n",
    "            \n",
    "                #evaluate L(k,i)\n",
    "                L[lower][both] = int((matrix[lower][both] - sum) / U[both][both]);\n",
    "    \n",
    "    #############################################\n",
    "    #print the display\n",
    "    print(\"Lower Triangular\\t\\tUpper Triangular\"); \n",
    "    for i in range(size):\n",
    "        #print the lower matrix\n",
    "        for j in range(size):\n",
    "            print(L[i][j], end = \"\\t\");\n",
    "        print(\"\", end = \"\\t\");\n",
    "        \n",
    "        #print the upper matrix\n",
    "        for j in range(size):\n",
    "            print(U[i][j], end =\"\\t\");\n",
    "        print(\"\");"
   ]
  },
  {
   "cell_type": "code",
   "execution_count": 17,
   "metadata": {},
   "outputs": [],
   "source": [
    "mat = [[2, -1, -2],\n",
    "       [-4, -6, 3],\n",
    "       [-4, -2, 8]];"
   ]
  },
  {
   "cell_type": "code",
   "execution_count": 18,
   "metadata": {},
   "outputs": [
    {
     "name": "stdout",
     "output_type": "stream",
     "text": [
      "Lower Triangular\t\tUpper Triangular\n",
      "1\t0\t0\t\t2\t-1\t-2\t\n",
      "-2\t1\t0\t\t0\t-8\t-1\t\n",
      "-2\t0\t1\t\t0\t0\t4\t\n"
     ]
    }
   ],
   "source": [
    "LUDecomp(mat, 3)"
   ]
  },
  {
   "cell_type": "code",
   "execution_count": null,
   "metadata": {},
   "outputs": [],
   "source": []
  }
 ],
 "metadata": {
  "kernelspec": {
   "display_name": "Python 3",
   "language": "python",
   "name": "python3"
  },
  "language_info": {
   "codemirror_mode": {
    "name": "ipython",
    "version": 3
   },
   "file_extension": ".py",
   "mimetype": "text/x-python",
   "name": "python",
   "nbconvert_exporter": "python",
   "pygments_lexer": "ipython3",
   "version": "3.7.3"
  }
 },
 "nbformat": 4,
 "nbformat_minor": 2
}
