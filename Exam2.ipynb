{
 "cells": [
  {
   "cell_type": "markdown",
   "metadata": {},
   "source": [
    "**Steven Glasford 11-18-2019 Exam 2**"
   ]
  },
  {
   "cell_type": "markdown",
   "metadata": {},
   "source": [
    "**Problem 1**"
   ]
  },
  {
   "cell_type": "markdown",
   "metadata": {},
   "source": [
    "Write a code from the scratch for finding derivation of a function $f(X)$ at the point $x = x_0$, using **(a)** three-point endpoint, and **(b)** Richardson's method. Use this to compute $f'(0)$ for the following function:\n"
   ]
  },
  {
   "cell_type": "markdown",
   "metadata": {},
   "source": [
    "|x   ||0     |0.1   |.2    |.3    |.4    |\n",
    "|----||------|------|------|------|------|\n",
    "|f(x)||0.0000|0.0819|0.1341|0.1646|0.1797|"
   ]
  },
  {
   "cell_type": "markdown",
   "metadata": {},
   "source": [
    "**Problem 1(a)**"
   ]
  },
  {
   "cell_type": "markdown",
   "metadata": {},
   "source": [
    "3-point endpoint formula:\n",
    "$$f'(x_0) = \\frac{1}{2h}[f(x_0-2h) - 4f(x_0-h) + 3f(x_0)] + \\frac{h^2}{3}f^{(3)}(c_2)$$\n",
    "where the $\\frac{h^2}{3}f^{(3)}(c_2)$ is equivalent to the error of the calculation\n",
    "we will first create a function in which we neglect to calculate the error."
   ]
  },
  {
   "cell_type": "code",
   "execution_count": 1,
   "metadata": {},
   "outputs": [],
   "source": [
    "#x2=f(x_2), x1 = f(x_1), x0 = f(x_0)\n",
    "def threePointEnd(x0,x1,x2,h):\n",
    "    return ((1/(2*h))*((-1)*x2+4*x1-3*x0))"
   ]
  },
  {
   "cell_type": "markdown",
   "metadata": {},
   "source": [
    "Seeing that the each instance of $x$ is separated by $0.1$ we will choose an $h$ value equivalent to $0.1$. We now solve for $f'(0)$."
   ]
  },
  {
   "cell_type": "code",
   "execution_count": 2,
   "metadata": {},
   "outputs": [],
   "source": [
    "x2 = 0.1341\n",
    "x1 = 0.0819\n",
    "x0 = 0.0000\n",
    "h  = 0.1"
   ]
  },
  {
   "cell_type": "code",
   "execution_count": 3,
   "metadata": {},
   "outputs": [
    {
     "data": {
      "text/plain": [
       "0.9675"
      ]
     },
     "execution_count": 3,
     "metadata": {},
     "output_type": "execute_result"
    }
   ],
   "source": [
    "threePointEnd(x0,x1,x2,h)"
   ]
  },
  {
   "cell_type": "markdown",
   "metadata": {},
   "source": [
    "**Problem 1(b)**"
   ]
  },
  {
   "cell_type": "markdown",
   "metadata": {},
   "source": [
    "Richardson's method:\n",
    "$$G = A(h_0) + ch_0^p$$\n",
    "$$G = A(h_1) + ch_1^p$$\n",
    "Goal of finding $G$:\n",
    "First solve for $c$: $$c = \\frac{G-A(h_0)}{h_0^p}$$\n",
    "Plug $c$ in to the other equation: $$G = A(h_1) + \\left(\\frac{G-A(h_0)}{h_0^p}\\right)h_1^p$$\n",
    "$$G = \\frac{\\left(\\frac{h_0}{h_1}\\right)^p A(h_1)-A(h_0)}{\\left(\\frac{h_0}{h_1}\\right)^p - 1}$$\n",
    "$$h_1 = \\frac{h_0}{2}$$\n",
    "$$G = \\frac{2^p A\\left(\\frac{h_0}{2}\\right) - A(h_0)}{2^p - 1}$$"
   ]
  },
  {
   "cell_type": "code",
   "execution_count": 4,
   "metadata": {},
   "outputs": [],
   "source": [
    "def richardson(x0, x1, x2, x3, x4, h):\n",
    "    return (4 * threePointEnd(x0,x1,x2,h/2) - threePointEnd(x0,x2,x4,h))/(4-1)\n",
    "    "
   ]
  },
  {
   "cell_type": "code",
   "execution_count": 5,
   "metadata": {},
   "outputs": [],
   "source": [
    "x4 = 0.1797\n",
    "x3 = 0.1646\n",
    "x2 = 0.1341\n",
    "x1 = 0.0819\n",
    "x0 = 0.0000\n",
    "h  = 0.2"
   ]
  },
  {
   "cell_type": "code",
   "execution_count": 6,
   "metadata": {},
   "outputs": [
    {
     "data": {
      "text/plain": [
       "0.99275"
      ]
     },
     "execution_count": 6,
     "metadata": {},
     "output_type": "execute_result"
    }
   ],
   "source": [
    "richardson(x0, x1, x2, x3, x4, h)"
   ]
  },
  {
   "cell_type": "markdown",
   "metadata": {},
   "source": [
    "**Problem 2**"
   ]
  },
  {
   "cell_type": "markdown",
   "metadata": {},
   "source": [
    "Using Python coding determine the length of the graph of the ellipse with the equation $$4x^2 + 9y^2 = 36.$$ You may use any method discussed in class. You may need to choose some “$h$” (length of subinterval for numerical integration) and  he choice is up to you."
   ]
  },
  {
   "cell_type": "markdown",
   "metadata": {},
   "source": [
    "In order to solve this equation we must first convert the equation into polar coordinates using  $$(x,y) = (a\\cos{\\theta},b\\sin{\\theta}), 0 \\leq r \\leq 2\\pi$$ such that $$4x^2 + 9y^2 = 36$$ becomes $$(x,y) = (3\\cos{\\theta},2\\sin{\\theta})$$ and the arc length is $$\\int_{t_1}^{t_2}\\sqrt{\\left(\\frac{dr}{dt}\\right)^2 + r^2\\left(\\frac{d\\theta}{dt}\\right)^2}dt$$"
   ]
  },
  {
   "cell_type": "markdown",
   "metadata": {},
   "source": [
    "where $$\\frac{dr}{dt} = -3\\sin{x},\\frac{d\\theta}{dt} = 2\\cos{t}, r=3\\cos{t}$$"
   ]
  },
  {
   "cell_type": "markdown",
   "metadata": {},
   "source": [
    "Plugging into the length equation $$\\int_{0}^{2\\pi}\\sqrt{\\left(-3\\sin{\\theta}\\right)^2 + \\left(3\\cos{\\theta}\\right)^2\\left(2\\cos{\\theta}\\right)^2}d\\theta = \\int_{0}^{2\\pi}3\\sqrt{4\\left(\\cos{\\theta}\\right)^4 + \\left(\\sin{\\theta}\\right)^2}d\\theta$$"
   ]
  },
  {
   "cell_type": "code",
   "execution_count": 7,
   "metadata": {},
   "outputs": [],
   "source": [
    "import math"
   ]
  },
  {
   "cell_type": "code",
   "execution_count": 8,
   "metadata": {},
   "outputs": [],
   "source": [
    "def function(theta):\n",
    "    return 3 * math.sqrt(4*math.cos(theta)**4+math.sin(theta)**2)"
   ]
  },
  {
   "cell_type": "code",
   "execution_count": 9,
   "metadata": {},
   "outputs": [],
   "source": [
    "def simpsonsThird(f, a, b):\n",
    "    h = (b-a)/2\n",
    "    return (h/3)*(f(a)+4*f(a+h)+f(b))"
   ]
  },
  {
   "cell_type": "code",
   "execution_count": 10,
   "metadata": {},
   "outputs": [],
   "source": [
    "def integrate(f, a, b, n):\n",
    "    result = 0\n",
    "    for i in range(0,n-1):\n",
    "        result += simpsonsThird(f, a+i*((b-a)/n), a+(i+1)*((b-a)/n))\n",
    "    \n",
    "    return result"
   ]
  },
  {
   "cell_type": "code",
   "execution_count": 17,
   "metadata": {},
   "outputs": [
    {
     "data": {
      "text/plain": [
       "25.650903782421032"
      ]
     },
     "execution_count": 17,
     "metadata": {},
     "output_type": "execute_result"
    }
   ],
   "source": [
    "integrate(function, 0, 2*math.pi, 1000000)"
   ]
  }
 ],
 "metadata": {
  "kernelspec": {
   "display_name": "Python 3",
   "language": "python",
   "name": "python3"
  },
  "language_info": {
   "codemirror_mode": {
    "name": "ipython",
    "version": 3
   },
   "file_extension": ".py",
   "mimetype": "text/x-python",
   "name": "python",
   "nbconvert_exporter": "python",
   "pygments_lexer": "ipython3",
   "version": "3.7.3"
  }
 },
 "nbformat": 4,
 "nbformat_minor": 2
}
