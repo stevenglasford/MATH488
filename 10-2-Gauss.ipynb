{
 "cells": [
  {
   "cell_type": "code",
   "execution_count": 1,
   "metadata": {},
   "outputs": [],
   "source": [
    "import numpy as np"
   ]
  },
  {
   "cell_type": "code",
   "execution_count": 2,
   "metadata": {},
   "outputs": [],
   "source": [
    "#Gaussian elimination\n",
    "def forward_elimination(A,b,n):\n",
    "    for row in range(0,n-1):\n",
    "        for i in range(row+1,n):\n",
    "            factor=A[i,row]/A[row,row]\n",
    "            print(f\"The multiplier in this step is {factor}\")\n",
    "            for j in range(row, n):\n",
    "                A[i,j] = A[i,j] - factor*A[row,j]\n",
    "                \n",
    "            b[i] = b[i] - factor*b[row]\n",
    "    return A,b\n",
    "\n",
    "def back_substitution(A,b,n):\n",
    "    x = np.zeros((n,1))\n",
    "    x[n-1] = b[n-1]/A[n-1,n-1]\n",
    "    for row in range(n-1,-1,-1):\n",
    "        sum = b[row]\n",
    "        for j in range(row+1,n):\n",
    "            sum = sum-A[row,j]*x[j]\n",
    "        x[row]=sum/A[row,row]\n",
    "    return x"
   ]
  },
  {
   "cell_type": "code",
   "execution_count": 5,
   "metadata": {},
   "outputs": [],
   "source": [
    "A = np.array([[4.0,-2.0,1.0],[-2.0,4.0,-2.0],[1.0,-2.0,4.0]])\n",
    "b = np.array([11.0,-16.0,17.0])"
   ]
  },
  {
   "cell_type": "code",
   "execution_count": 6,
   "metadata": {},
   "outputs": [
    {
     "name": "stdout",
     "output_type": "stream",
     "text": [
      "The multiplier in this step is -0.5\n",
      "The multiplier in this step is 0.25\n"
     ]
    },
    {
     "data": {
      "text/plain": [
       "(array([[ 4.  , -2.  ,  1.  ],\n",
       "        [ 0.  ,  3.  , -1.5 ],\n",
       "        [ 0.  , -1.5 ,  3.75]]), array([ 11.  , -10.5 ,  14.25]))"
      ]
     },
     "execution_count": 6,
     "metadata": {},
     "output_type": "execute_result"
    }
   ],
   "source": [
    "forward_elimination(A,b,3)"
   ]
  },
  {
   "cell_type": "code",
   "execution_count": null,
   "metadata": {},
   "outputs": [],
   "source": []
  }
 ],
 "metadata": {
  "kernelspec": {
   "display_name": "Python 3",
   "language": "python",
   "name": "python3"
  },
  "language_info": {
   "codemirror_mode": {
    "name": "ipython",
    "version": 3
   },
   "file_extension": ".py",
   "mimetype": "text/x-python",
   "name": "python",
   "nbconvert_exporter": "python",
   "pygments_lexer": "ipython3",
   "version": "3.7.3"
  }
 },
 "nbformat": 4,
 "nbformat_minor": 2
}
